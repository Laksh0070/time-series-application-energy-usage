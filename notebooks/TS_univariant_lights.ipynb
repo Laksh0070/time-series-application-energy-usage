{
 "cells": [
  {
   "cell_type": "code",
   "execution_count": 1,
   "id": "5cecd882-c9d1-4286-9318-f49c8057d568",
   "metadata": {},
   "outputs": [],
   "source": [
    "import pandas as pd"
   ]
  },
  {
   "cell_type": "code",
   "execution_count": 2,
   "id": "d588d851-152e-4f71-88c9-65498e42c43b",
   "metadata": {},
   "outputs": [],
   "source": [
    "df = pd.read_csv(\"../data/appliance_energy_usage.csv\")"
   ]
  },
  {
   "cell_type": "code",
   "execution_count": 4,
   "id": "281846e4-da68-49d7-928a-8bd0fd2a667a",
   "metadata": {},
   "outputs": [
    {
     "name": "stdout",
     "output_type": "stream",
     "text": [
      "<class 'pandas.core.frame.DataFrame'>\n",
      "RangeIndex: 19735 entries, 0 to 19734\n",
      "Data columns (total 9 columns):\n",
      " #   Column       Non-Null Count  Dtype  \n",
      "---  ------       --------------  -----  \n",
      " 0   date         19735 non-null  object \n",
      " 1   Appliances   19735 non-null  int64  \n",
      " 2   lights       19735 non-null  int64  \n",
      " 3   T_out        19735 non-null  float64\n",
      " 4   Press_mm_hg  19735 non-null  float64\n",
      " 5   RH_out       19735 non-null  float64\n",
      " 6   Windspeed    19735 non-null  float64\n",
      " 7   Tdewpoint    19735 non-null  float64\n",
      " 8   Visibility   19735 non-null  float64\n",
      "dtypes: float64(6), int64(2), object(1)\n",
      "memory usage: 1.4+ MB\n"
     ]
    }
   ],
   "source": [
    "df.info()"
   ]
  },
  {
   "cell_type": "code",
   "execution_count": null,
   "id": "c74da9cd-5381-460f-b6a8-fe073c350f31",
   "metadata": {},
   "outputs": [],
   "source": []
  }
 ],
 "metadata": {
  "kernelspec": {
   "display_name": "DS",
   "language": "python",
   "name": "data_science"
  },
  "language_info": {
   "codemirror_mode": {
    "name": "ipython",
    "version": 3
   },
   "file_extension": ".py",
   "mimetype": "text/x-python",
   "name": "python",
   "nbconvert_exporter": "python",
   "pygments_lexer": "ipython3",
   "version": "3.9.12"
  }
 },
 "nbformat": 4,
 "nbformat_minor": 5
}
